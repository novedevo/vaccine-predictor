{
 "cells": [
  {
   "cell_type": "markdown",
   "source": [
    "## Imports, constants and configuration"
   ],
   "metadata": {}
  },
  {
   "cell_type": "code",
   "execution_count": 1,
   "source": [
    "from requests import get\n",
    "from datetime import date\n",
    "import numpy as np\n",
    "import matplotlib.pyplot as plt\n",
    "import matplotlib.dates as mdates\n",
    "\n",
    "mdates.set_epoch(\"2021-01-01T00:00\")"
   ],
   "outputs": [],
   "metadata": {}
  },
  {
   "cell_type": "code",
   "execution_count": 2,
   "source": [
    "VACCINATION_UPTAKE = 0.95\n",
    "FORECAST = 30\n",
    "DATA_CUTOFF = \"2021-01-01\"\n",
    "VCH_ADULT_POP = 994826"
   ],
   "outputs": [],
   "metadata": {}
  },
  {
   "cell_type": "markdown",
   "source": [
    "## Refresh data"
   ],
   "metadata": {}
  },
  {
   "cell_type": "markdown",
   "source": [
    "The end goal is to estimate when a person of a given age would get their first vaccination. \n",
    "To achieve this, ideally we would want a time-series dataset of what percentage of the population has received a single dose, coupled with population and demographic statistics, as locally as possible.\n",
    "This dataset, as far as I can tell, does not exist, so we must create what we can and approximate the rest.\n",
    "BC's COVID-19 dashboard supplies the number of single-shot people at the Health Region level, which is the most local information available.\n",
    "However, it does not supply time-series data for this, just the cumulative total and delta against the last report.\n",
    "BC's official APIs seem to be almost completely unaware of vaccination data, but luckily a project run by students and faculty at the University of Saskatoon has been tracking this.\n",
    "Their API is excellent, but their data is only granular to the provincial level.\n",
    "In lieu of the ideal dataset, we can make estimates. \n",
    "Assuming that province-wide vaccination trends map somewhat closely to the Vancouver Coastal Health Region's data, we can normalize the USask data with the number pulled from BC's ArcGIS internal API."
   ],
   "metadata": {}
  },
  {
   "cell_type": "code",
   "execution_count": 3,
   "source": [
    "shots_given = get(\"https://api.covid19tracker.ca/reports/province/bc\",\n",
    "            params={\"stat\": \"vaccinations\", \"after\": DATA_CUTOFF}).json()['data']\n",
    "people_fully_vaccinated = get(\"https://api.covid19tracker.ca/reports/province/bc\",\n",
    "                  params={\"stat\": \"vaccinated\", \"after\": DATA_CUTOFF}).json()['data']\n",
    "\n",
    "arcgis_parameters = {\n",
    "    \"f\": \"json\",\n",
    "    \"where\": \"(HA_Name<>'BC') AND (HA_Name='Vancouver Coastal')\",\n",
    "    \"outStatistics\": '[{\"statisticType\":\"sum\",\"onStatisticField\":\"One_Dose_Admin\",\"outStatisticFieldName\":\"One_Dose_Admin\"}]'\n",
    "}\n",
    "\n",
    "vch_single_shot = get(\"https://services1.arcgis.com/xeMpV7tU1t4KD3Ei/arcgis/rest/services/BC_COVID19Dashboard_Vaccine_Counts/FeatureServer/0/query\",\n",
    "                      params=arcgis_parameters).json()['features'][0]['attributes']['One_Dose_Admin']\n",
    "# chain of object & list indexing delves through the deeply nested JSON response to the single integer that we desire"
   ],
   "outputs": [],
   "metadata": {}
  },
  {
   "cell_type": "markdown",
   "source": [
    "## Processing, deserialization, and cleaning"
   ],
   "metadata": {}
  },
  {
   "cell_type": "code",
   "execution_count": 4,
   "source": [
    "def singleshot_cleanser(pair):\n",
    "    \"\"\"\n",
    "    maps 'None' values to zero, reduces shot & doubleshot down to the desired data point, and converts date strings into datetime dates\n",
    "    in effect, this is a secondary deserialization step\n",
    "    \"\"\"\n",
    "    (shot_day, doubleshot_day) = pair  # unpack tuple\n",
    "    if not shot_day['change_vaccinations']: # filter out weekends, etc (days with no change)\n",
    "        return False\n",
    "\n",
    "    return [\n",
    "        date.fromisoformat(shot_day['date']),\n",
    "        shot_day['total_vaccinations'] - (doubleshot_day['total_vaccinated']\n",
    "                                           if doubleshot_day['total_vaccinated'] != None else 0)\n",
    "    ]\n",
    "\n",
    "def doubleshot_cleanser(doubleshot_day):\n",
    "    if not doubleshot_day['change_vaccinated']:\n",
    "        return False\n",
    "    return [\n",
    "        date.fromisoformat(doubleshot_day['date']), \n",
    "        (doubleshot_day['total_vaccinated'] if doubleshot_day['total_vaccinated'] != None else 0)\n",
    "    ]\n",
    "    \n",
    "\n",
    "\n",
    "# number of people who have had at least one shot\n",
    "singleshots = filter(lambda x: x, map(singleshot_cleanser, zip(shots_given, people_fully_vaccinated)))\n",
    "doubleshots = filter(lambda x: x, map(doubleshot_cleanser, people_fully_vaccinated))\n",
    "# collect both lists together, reduce them into a single list, and filter out all changeless days\n",
    "singleshots = np.transpose(tuple(singleshots))\n",
    "doubleshots = np.transpose(tuple(doubleshots))"
   ],
   "outputs": [],
   "metadata": {}
  },
  {
   "cell_type": "code",
   "execution_count": 5,
   "source": [
    "# approximate the vaccinated population of VCH\n",
    "normalization_factor = vch_single_shot/singleshots[-1][-1]\n",
    "singleshots[1] *= normalization_factor\n",
    "doubleshots[1] *= normalization_factor"
   ],
   "outputs": [],
   "metadata": {}
  },
  {
   "cell_type": "code",
   "execution_count": null,
   "source": [
    "singleshots[1] /= VCH_ADULT_POP/100  # total population of VCH over 20\n",
    "doubleshots[1] /= VCH_ADULT_POP/100  # TODO: we aren't only vaccinating over 20 anymore"
   ],
   "outputs": [],
   "metadata": {}
  },
  {
   "cell_type": "markdown",
   "source": [
    "## Generate trendline"
   ],
   "metadata": {}
  },
  {
   "cell_type": "markdown",
   "source": [
    "Python's `datetime` module and `matplotlib`'s `date` module use different epochs (off by a couple millenia) for converting between dates and their ordinal representations, so `datetime` -> ordinal -> `matplotlib` plots in the year 3990.\n",
    "Subtracting `737791` (the `datetime` ordinal for January 1st, 2021) from each entry effectively sets the epoch to the earliest time we care about, and we set the `matplotlib` epoch in the first cell."
   ],
   "metadata": {}
  },
  {
   "cell_type": "code",
   "execution_count": 5,
   "source": [
    "# converts datetime objects to ordinals in the epoch beginning at Jan 1st, 2021\n",
    "ordinal_dates = tuple(map(lambda x: date.toordinal(x)-737791, singleshots[0]))\n",
    "\n",
    "# trendline = np.polyfit(ordinal_dates, singleshots[1].astype(float), 3)"
   ],
   "outputs": [],
   "metadata": {}
  },
  {
   "cell_type": "markdown",
   "source": [
    "## Generate demographic separation markers"
   ],
   "metadata": {}
  },
  {
   "cell_type": "markdown",
   "source": [
    "Generates a list of floats indicating what age groups will be vaccinated at a given percentage. This is equivalent to calculating the percentile, in a population sorted by age, with the 99th percentile occurring at ~age 20 (before compensating for sub-100% vaccination)"
   ],
   "metadata": {}
  },
  {
   "cell_type": "code",
   "execution_count": 6,
   "source": [
    "demographics = [83956, 103969, 104423, 89466, 77422, 81818, 84042, 85757, 76741, 65747, 52276, 35414, 25075, 17143, 11577]\n",
    "tot_pop = sum(demographics)\n",
    "demo_sums = [0.0]\n",
    "for index in range(len(demographics), 0, -1):\n",
    "    cumsum = sum(demographics[index-1:])* VACCINATION_UPTAKE / tot_pop * 100\n",
    "    if cumsum < doubleshots[1][-1]:\n",
    "        demo_sums.pop()\n",
    "    demo_sums.append(cumsum)\n",
    "demo_sums.reverse()"
   ],
   "outputs": [],
   "metadata": {}
  },
  {
   "cell_type": "markdown",
   "source": [
    "## Graphing"
   ],
   "metadata": {}
  },
  {
   "cell_type": "code",
   "execution_count": 7,
   "source": [
    "fig, ax = plt.subplots()\n",
    "\n",
    "fig.set_size_inches(14, 10)\n",
    "\n",
    "# formatting\n",
    "ax.set_ylabel(\"percent vaccinated\")\n",
    "ax.set_title(\"Vaccination Trend\")\n",
    "ax.set_ylim(0, 100)\n",
    "\n",
    "# fancy date formatting for x-axis tick labels\n",
    "locator = mdates.AutoDateLocator(minticks=3, maxticks=10)\n",
    "formatter = mdates.ConciseDateFormatter(locator)\n",
    "ax.xaxis.set_major_locator(locator)\n",
    "ax.xaxis.set_major_formatter(formatter)\n",
    "\n",
    "raw, = ax.plot(singleshots[0], singleshots[1], color=\"red\", label=\"first\")  # raw data\n",
    "double, = ax.plot(doubleshots[0], doubleshots[1], color=\"green\", label=\"second\")  # doubleshots\n",
    "# forecast, = ax.plot(\n",
    "#     np.linspace(ordinal_dates[0], ordinal_dates[-1] + FORECAST),\n",
    "#     np.polyval(trendline, np.linspace(ordinal_dates[0], ordinal_dates[-1] + FORECAST)),\n",
    "#     color=\"green\",\n",
    "#     label=\"forecast\"\n",
    "# ) # cubic polynomial trendline\n",
    "\n",
    "age = 50\n",
    "for demo_sum in demo_sums:\n",
    "    line = ax.axhline(demo_sum, color=\"grey\", linewidth=1, label=f\"{age}-{age+4}\")\n",
    "    age -= 5\n",
    "#perhaps these could be major ticks?\n",
    "\n",
    "ax.legend([raw, double], [raw.get_label(), double.get_label()])\n",
    "\n",
    "plt.show()\n"
   ],
   "outputs": [
    {
     "output_type": "display_data",
     "data": {
      "text/plain": [
       "<Figure size 1008x720 with 1 Axes>"
      ],
      "image/png": "[encoded data removed]"
     },
     "metadata": {
      "needs_background": "light"
     }
    }
   ],
   "metadata": {}
  }
 ],
 "metadata": {
  "interpreter": {
   "hash": "e7370f93d1d0cde622a1f8e1c04877d8463912d04d973331ad4851f04de6915a"
  },
  "kernelspec": {
   "display_name": "Python 3.9.5 64-bit",
   "name": "python3"
  },
  "language_info": {
   "codemirror_mode": {
    "name": "ipython",
    "version": 3
   },
   "file_extension": ".py",
   "mimetype": "text/x-python",
   "name": "python",
   "nbconvert_exporter": "python",
   "pygments_lexer": "ipython3",
   "version": "3.9.5"
  },
  "metadata": {
   "interpreter": {
    "hash": "31f2aee4e71d21fbe5cf8b01ff0e069b9275f58929596ceb00d14d90e3e16cd6"
   }
  },
  "orig_nbformat": 3
 },
 "nbformat": 4,
 "nbformat_minor": 2
}