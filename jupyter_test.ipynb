{
 "cells": [
  {
   "cell_type": "markdown",
   "metadata": {},
   "source": [
    "## Refresh data"
   ]
  },
  {
   "cell_type": "code",
   "execution_count": 6,
   "metadata": {},
   "outputs": [],
   "source": [
    "import requests as rq\n",
    "shots = rq.get(\"https://api.covid19tracker.ca/reports/province/bc?stat=vaccinations&after=2021-01-01\").json()['data']\n",
    "doubleshots = rq.get(\"https://api.covid19tracker.ca/reports/province/bc?stat=vaccinated&after=2021-01-01\").json()['data']"
   ]
  },
  {
   "cell_type": "code",
   "execution_count": 7,
   "metadata": {},
   "outputs": [],
   "source": [
    "def cleanser(pair):\n",
    "    \"\"\"\n",
    "    filters out 'None' values, reduces shot&doubleshot down to the desired data point\n",
    "    \"\"\"\n",
    "    (shots_day, doubleshot_day) = pair # unpack tuple\n",
    "    return {\n",
    "        doubleshot_day['date']: shots_day['total_vaccinations'] - doubleshot_day['total_vaccinated'] if doubleshot_day['total_vaccinated'] != None else 0\n",
    "    }\n",
    "\n",
    "singleshots = map(cleanser, zip(shots, doubleshots)) # number of people who have had at least one shot\n",
    "listed = list(singleshots) # for easier viewing/debugging\n",
    "single = listed[-2]"
   ]
  },
  {
   "cell_type": "code",
   "execution_count": 8,
   "metadata": {},
   "outputs": [],
   "source": [
    "import matplotlib as plt\n"
   ]
  }
 ],
 "metadata": {
  "kernelspec": {
   "display_name": "Python 3.8.5 64-bit",
   "name": "python385jvsc74a57bd031f2aee4e71d21fbe5cf8b01ff0e069b9275f58929596ceb00d14d90e3e16cd6"
  },
  "language_info": {
   "codemirror_mode": {
    "name": "ipython",
    "version": 3
   },
   "file_extension": ".py",
   "mimetype": "text/x-python",
   "name": "python",
   "nbconvert_exporter": "python",
   "pygments_lexer": "ipython3",
   "version": "3.8.5"
  },
  "metadata": {
   "interpreter": {
    "hash": "31f2aee4e71d21fbe5cf8b01ff0e069b9275f58929596ceb00d14d90e3e16cd6"
   }
  },
  "orig_nbformat": 2
 },
 "nbformat": 4,
 "nbformat_minor": 2
}