{
 "cells": [
  {
   "cell_type": "markdown",
   "metadata": {},
   "source": [
    "## Refresh data"
   ]
  },
  {
   "cell_type": "markdown",
   "metadata": {},
   "source": [
    "The end goal is to estimate when a person of a given age would get their first vaccination. \n",
    "To achieve this, ideally we would want a time-series dataset of what percentage of the population has received a single dose, coupled with population and demographic statistics, as locally as possible.\n",
    "This dataset, as far as I can tell, does not exist, so we must create what we can and approximate the rest.\n",
    "BC's COVID-19 dashboard supplies the number of single-shot people at the Health Region level, which is the most local information available.\n",
    "However, it does not supply time-series data for this, just the cumulative total and delta against the last report.\n",
    "BC's official APIs seem to be almost completely unaware of vaccination data, but luckily a project run by students and faculty at the University of Saskatoon has been tracking this.\n",
    "Their API is excellent, but their data is only granular to the provincial level.\n",
    "In lieu of the ideal dataset, we can make estimates. \n",
    "Assuming that province-wide vaccination trends map somewhat closely to the Vancouver Coastal Health Region's data, we can normalize the USask data with the number pulled from BC's ArcGIS internal API."
   ]
  },
  {
   "cell_type": "code",
   "execution_count": 40,
   "metadata": {},
   "outputs": [],
   "source": [
    "from requests import get\n",
    "\n",
    "shots = get(\"https://api.covid19tracker.ca/reports/province/bc\", params={\"stat\":\"vaccinations\", \"after\":\"2021-01-01\"}).json()['data']\n",
    "doubleshots = get(\"https://api.covid19tracker.ca/reports/province/bc\", params={\"stat\":\"vaccinated\", \"after\":\"2021-01-01\"}).json()['data']\n",
    "\n",
    "arcgis_parameters = {\n",
    "    \"f\": \"json\",\n",
    "    \"where\": \"(HA_Name<>'BC') AND (HA_Name='Vancouver Coastal')\",\n",
    "    \"outStatistics\": '[{\"statisticType\":\"sum\",\"onStatisticField\":\"One_Dose_Admin\",\"outStatisticFieldName\":\"One_Dose_Admin\"}]'\n",
    "}\n",
    "\n",
    "vch_single_shot = get(\"https://services1.arcgis.com/xeMpV7tU1t4KD3Ei/arcgis/rest/services/BC_COVID19Dashboard_Vaccine_Counts/FeatureServer/0/query\", params=arcgis_parameters).json()['features'][0]['attributes']['One_Dose_Admin']\n",
    "# chain of object & list indexing delves through the deeply nested JSON response to the single integer that we desire"
   ]
  },
  {
   "cell_type": "markdown",
   "metadata": {},
   "source": [
    "## Processing, deserialization, and cleaning"
   ]
  },
  {
   "cell_type": "code",
   "execution_count": 41,
   "metadata": {},
   "outputs": [],
   "source": [
    "from datetime import date\n",
    "import numpy as np\n",
    "\n",
    "def cleanser(pair):\n",
    "    \"\"\"\n",
    "    maps 'None' values to zero, reduces shot & doubleshot down to the desired data point, and converts date strings into datetime dates\n",
    "    in effect, this is a secondary deserialization step\n",
    "    \"\"\"\n",
    "    (shots_day, doubleshot_day) = pair # unpack tuple\n",
    "    return [\n",
    "        date.fromisoformat(shots_day['date']), \n",
    "        shots_day['total_vaccinations'] - (doubleshot_day['total_vaccinated'] if doubleshot_day['total_vaccinated'] != None else 0)\n",
    "    ]\n",
    "\n",
    "singleshots = map(cleanser, zip(shots, doubleshots)) # number of people who have had at least one shot\n",
    "singleshots = np.transpose(tuple(singleshots))\n",
    "singleshots[1] *= vch_single_shot/singleshots[-1][-1] # approximate the vaccinated population of VCH\n",
    "singleshots[1] /= 994826 # total population of VCH over 20"
   ]
  },
  {
   "cell_type": "code",
   "execution_count": 42,
   "metadata": {},
   "outputs": [
    {
     "data": {
      "text/plain": "Text(0.5, 1.0, 'Vaccination Trend')"
     },
     "execution_count": 42,
     "metadata": {},
     "output_type": "execute_result"
    },
    {
     "data": {
      "image/png": "[encoded data removed]",
      "text/plain": "<Figure size 432x288 with 1 Axes>"
     },
     "metadata": {
      "needs_background": "light"
     },
     "output_type": "display_data"
    }
   ],
   "source": [
    "import matplotlib.pyplot as plt\n",
    "\n",
    "plt.plot(singleshots[0], singleshots[1])\n",
    "plt.xlabel(\"date\")\n",
    "plt.ylabel(\"percent vaccinated\")\n",
    "plt.title(\"Vaccination Trend\")"
   ]
  }
 ],
 "metadata": {
  "kernelspec": {
   "display_name": "Python 3.8.5 64-bit",
   "name": "python385jvsc74a57bd031f2aee4e71d21fbe5cf8b01ff0e069b9275f58929596ceb00d14d90e3e16cd6"
  },
  "language_info": {
   "codemirror_mode": {
    "name": "ipython",
    "version": 3
   },
   "file_extension": ".py",
   "mimetype": "text/x-python",
   "name": "python",
   "nbconvert_exporter": "python",
   "pygments_lexer": "ipython3",
   "version": "3.8.5"
  },
  "metadata": {
   "interpreter": {
    "hash": "31f2aee4e71d21fbe5cf8b01ff0e069b9275f58929596ceb00d14d90e3e16cd6"
   }
  },
  "orig_nbformat": 2
 },
 "nbformat": 4,
 "nbformat_minor": 2
}